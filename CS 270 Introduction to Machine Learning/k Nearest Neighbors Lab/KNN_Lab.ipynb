{
  "cells": [
    {
      "cell_type": "markdown",
      "metadata": {
        "id": "DVL7_bgmIAPR"
      },
      "source": [
        "# K-Nearest Neighbor Lab\n",
        "Read over the sklearn info on [nearest neighbor learners](https://scikit-learn.org/stable/modules/neighbors.html#nearest-neighbors-classification)\n",
        "\n",
        "\n"
      ]
    },
    {
      "cell_type": "code",
      "execution_count": 93,
      "metadata": {
        "id": "6ZbYjZZZ_yLV",
        "colab": {
          "base_uri": "https://localhost:8080/"
        },
        "outputId": "5b6e3f3a-9622-463c-d512-46f2b5844705"
      },
      "outputs": [
        {
          "output_type": "stream",
          "name": "stdout",
          "text": [
            "Requirement already satisfied: ucimlrepo in /usr/local/lib/python3.10/dist-packages (0.0.7)\n",
            "Requirement already satisfied: pandas>=1.0.0 in /usr/local/lib/python3.10/dist-packages (from ucimlrepo) (2.2.2)\n",
            "Requirement already satisfied: certifi>=2020.12.5 in /usr/local/lib/python3.10/dist-packages (from ucimlrepo) (2024.8.30)\n",
            "Requirement already satisfied: numpy>=1.22.4 in /usr/local/lib/python3.10/dist-packages (from pandas>=1.0.0->ucimlrepo) (1.26.4)\n",
            "Requirement already satisfied: python-dateutil>=2.8.2 in /usr/local/lib/python3.10/dist-packages (from pandas>=1.0.0->ucimlrepo) (2.8.2)\n",
            "Requirement already satisfied: pytz>=2020.1 in /usr/local/lib/python3.10/dist-packages (from pandas>=1.0.0->ucimlrepo) (2024.2)\n",
            "Requirement already satisfied: tzdata>=2022.7 in /usr/local/lib/python3.10/dist-packages (from pandas>=1.0.0->ucimlrepo) (2024.2)\n",
            "Requirement already satisfied: six>=1.5 in /usr/local/lib/python3.10/dist-packages (from python-dateutil>=2.8.2->pandas>=1.0.0->ucimlrepo) (1.16.0)\n"
          ]
        }
      ],
      "source": [
        "from sklearn.neighbors import KNeighborsClassifier, KNeighborsRegressor\n",
        "import numpy as np\n",
        "import pandas as pd\n",
        "from scipy.io import arff\n",
        "import matplotlib.pyplot as plt\n",
        "from sklearn.model_selection import train_test_split\n",
        "!pip install ucimlrepo\n",
        "from ucimlrepo import fetch_ucirepo"
      ]
    },
    {
      "cell_type": "markdown",
      "metadata": {
        "id": "6YwhfWW_xj9W"
      },
      "source": [
        "## 1 K-Nearest Neighbor (KNN) algorithm\n",
        "\n",
        "### 1.1 (15%) Basic KNN Classification\n",
        "\n",
        "Learn the [Glass data set](https://archive.ics.uci.edu/dataset/42/glass+identification) using [KNeighborsClassifier](https://scikit-learn.org/stable/modules/generated/sklearn.neighbors.KNeighborsClassifier.html#sklearn.neighbors.KNeighborsClassifier) with default parameters.\n",
        "- Randomly split your data into train/test.  Anytime we don't tell you specifics (such as what percentage is train vs test) choose your own reasonable values\n",
        "- Give typical train and test set accuracies after running with different random splits\n",
        "- Print the output probabilities for a test set (predict_proba)\n",
        "- Try it with different p values (Minkowskian exponent) and discuss any differences"
      ]
    },
    {
      "cell_type": "code",
      "execution_count": 94,
      "metadata": {
        "id": "wSbOGpwvxj9X",
        "colab": {
          "base_uri": "https://localhost:8080/"
        },
        "outputId": "05a93252-d314-4f4a-c950-e888bde59ac7"
      },
      "outputs": [
        {
          "output_type": "stream",
          "name": "stdout",
          "text": [
            "Run 1\n",
            "  Train Accuracy: 0.885\n",
            "  Test Accuracy: 0.804\n",
            "Run 2\n",
            "  Train Accuracy: 0.885\n",
            "  Test Accuracy: 0.804\n",
            "Run 3\n",
            "  Train Accuracy: 0.885\n",
            "  Test Accuracy: 0.804\n",
            "Run 4\n",
            "  Train Accuracy: 0.885\n",
            "  Test Accuracy: 0.804\n",
            "Run 5\n",
            "  Train Accuracy: 0.885\n",
            "  Test Accuracy: 0.804\n",
            "\n",
            "Average accuracy:\n",
            "  Average Train Accuracy: 0.885\n",
            "  Average Test Accuracy: 0.804\n"
          ]
        }
      ],
      "source": [
        "data, meta = arff.loadarff('MagicTelescopeDataset.arff')\n",
        "\n",
        "df = pd.DataFrame(data)\n",
        "df.columns = df.columns.str.replace(\":\", \"\")\n",
        "df['class'] = df['class'].str.decode('utf-8')\n",
        "\n",
        "X = df.drop('class', axis=1)\n",
        "y = df['class']\n",
        "y = (y == 'g').astype(int)\n",
        "\n",
        "random_state = np.random.randint(0, 100)\n",
        "train_accuracies = []\n",
        "test_accuracies = []\n",
        "\n",
        "for _ in range(5):\n",
        "    X_train, X_test, y_train, y_test = train_test_split(X, y, test_size=0.2, random_state=random_state)\n",
        "\n",
        "    knn = KNeighborsClassifier(n_neighbors=3, weights='uniform')\n",
        "\n",
        "    knn.fit(X_train, y_train)\n",
        "    train_accuracy = knn.score(X_train, y_train)\n",
        "    test_accuracy = knn.score(X_test, y_test)\n",
        "\n",
        "    train_accuracies.append(train_accuracy)\n",
        "    test_accuracies.append(test_accuracy)\n",
        "\n",
        "    print(f\"Run {_ + 1}\")\n",
        "    print(f\"  Train Accuracy: {train_accuracy:.3f}\")\n",
        "    print(f\"  Test Accuracy: {test_accuracy:.3f}\")\n",
        "\n",
        "avg_train_accuracy = np.mean(train_accuracies)\n",
        "avg_test_accuracy = np.mean(test_accuracies)\n",
        "print(f\"\\nAverage accuracy:\")\n",
        "print(f\"  Average Train Accuracy: {avg_train_accuracy:.3f}\")\n",
        "print(f\"  Average Test Accuracy: {avg_test_accuracy:.3f}\")\n"
      ]
    },
    {
      "cell_type": "markdown",
      "metadata": {
        "id": "yJSuag0Pxj9X"
      },
      "source": [
        "Discussion\n",
        "\n",
        "**It seems as though the manhatan distance (p=1) did *slightly* better than the other 3 that I used. It appeared as though 1, 2, and 3 all did very similar in terms of both train and test accuracy**"
      ]
    },
    {
      "cell_type": "markdown",
      "metadata": {
        "id": "9vWiTdlbR2Xh"
      },
      "source": [
        "## 2 KNN Classification with normalization and distance weighting\n",
        "\n",
        "Use the [magic telescope](https://axon.cs.byu.edu/data/uci_class/MagicTelescope.arff) dataset\n",
        "\n",
        "### 2.1 (5%) - Without Normalization or Distance Weighting\n",
        "- Do random 80/20 train/test splits each time\n",
        "- Run with k=3 and *without* distance weighting and *without* normalization\n",
        "- Show train and test set accuracy"
      ]
    },
    {
      "cell_type": "code",
      "execution_count": 95,
      "metadata": {
        "id": "4SSoasDQSKXb",
        "colab": {
          "base_uri": "https://localhost:8080/"
        },
        "outputId": "2cb033dc-29b5-48f0-e119-0909082ea635"
      },
      "outputs": [
        {
          "output_type": "stream",
          "name": "stdout",
          "text": [
            "Run 1\n",
            "  Train Accuracy: 0.889\n",
            "  Test Accuracy: 0.785\n",
            "Run 2\n",
            "  Train Accuracy: 0.889\n",
            "  Test Accuracy: 0.785\n",
            "Run 3\n",
            "  Train Accuracy: 0.889\n",
            "  Test Accuracy: 0.785\n",
            "Run 4\n",
            "  Train Accuracy: 0.889\n",
            "  Test Accuracy: 0.785\n",
            "Run 5\n",
            "  Train Accuracy: 0.889\n",
            "  Test Accuracy: 0.785\n",
            "\n",
            "Average accuracy:\n",
            "  Average Train Accuracy: 0.889\n",
            "  Average Test Accuracy: 0.785\n"
          ]
        }
      ],
      "source": [
        "from sklearn.metrics import accuracy_score\n",
        "\n",
        "data, meta = arff.loadarff('MagicTelescopeDataset.arff')\n",
        "\n",
        "df = pd.DataFrame(data)\n",
        "df.columns = df.columns.str.replace(\":\", \"\")\n",
        "df['class'] = df['class'].str.decode('utf-8')\n",
        "\n",
        "X = df.drop('class', axis=1)\n",
        "y = df['class']\n",
        "y = (y == 'g').astype(int)\n",
        "\n",
        "random_state = np.random.randint(0, 100)\n",
        "train_accuracies = []\n",
        "test_accuracies = []\n",
        "\n",
        "for i in range(5):\n",
        "    X_train, X_test, y_train, y_test = train_test_split(X, y, test_size=0.2, random_state=random_state)\n",
        "\n",
        "    knn = KNeighborsClassifier(n_neighbors=3, weights='uniform')\n",
        "\n",
        "    knn.fit(X_train, y_train)\n",
        "    train_accuracy = knn.score(X_train, y_train)\n",
        "    test_accuracy = knn.score(X_test, y_test)\n",
        "\n",
        "    train_accuracies.append(train_accuracy)\n",
        "    test_accuracies.append(test_accuracy)\n",
        "\n",
        "    print(f\"Run {i + 1}\")\n",
        "    print(f\"  Train Accuracy: {train_accuracy:.3f}\")\n",
        "    print(f\"  Test Accuracy: {test_accuracy:.3f}\")\n",
        "\n",
        "avg_train_accuracy = np.mean(train_accuracies)\n",
        "avg_test_accuracy = np.mean(test_accuracies)\n",
        "print(f\"\\nAverage accuracy:\")\n",
        "print(f\"  Average Train Accuracy: {avg_train_accuracy:.3f}\")\n",
        "print(f\"  Average Test Accuracy: {avg_test_accuracy:.3f}\")"
      ]
    },
    {
      "cell_type": "markdown",
      "metadata": {
        "id": "4ifFv0rgxj9Z"
      },
      "source": [
        "*Discussion*\n",
        "\n",
        "**Not exactly sure what to say here. Everything looks great, normal train and test accuracies. Could be better, but we'll see. I had to do this twice because the first time I was getting accuracies of 1 for some reason. I have literally no clue why that was happening**"
      ]
    },
    {
      "cell_type": "markdown",
      "metadata": {
        "id": "i9znLAd-xj9Z"
      },
      "source": [
        "### 2.2 (10%) With Normalization\n",
        "- Try it with k=3 without distance weighting but *with* normalization of input features.  You may use any reasonable normalization approach (e.g. standard min-max normalization between 0-1, z-transform, etc.)"
      ]
    },
    {
      "cell_type": "code",
      "execution_count": 96,
      "metadata": {
        "id": "io3fz2_5xj9a",
        "colab": {
          "base_uri": "https://localhost:8080/"
        },
        "outputId": "843f2c98-3cd1-4041-cba7-5e6e3d1d7b72"
      },
      "outputs": [
        {
          "output_type": "stream",
          "name": "stdout",
          "text": [
            "Run 1:\n",
            "  Train Accuracy: 0.9010\n",
            "  Test Accuracy:  0.8352\n",
            "\n",
            "Run 2:\n",
            "  Train Accuracy: 0.9000\n",
            "  Test Accuracy:  0.8265\n",
            "\n",
            "Run 3:\n",
            "  Train Accuracy: 0.9005\n",
            "  Test Accuracy:  0.8357\n",
            "\n",
            "Run 4:\n",
            "  Train Accuracy: 0.9017\n",
            "  Test Accuracy:  0.8344\n",
            "\n",
            "Run 5:\n",
            "  Train Accuracy: 0.9004\n",
            "  Test Accuracy:  0.8336\n",
            "\n",
            "Average Results:\n",
            "  Average Train Accuracy: 0.9007\n",
            "  Average Test Accuracy:  0.8331\n"
          ]
        }
      ],
      "source": [
        "from sklearn.preprocessing import MinMaxScaler\n",
        "\n",
        "data, meta = arff.loadarff('MagicTelescopeDataset.arff')\n",
        "df = pd.DataFrame(data)\n",
        "df.columns = df.columns.str.replace(\":\", \"\")\n",
        "df['class'] = df['class'].str.decode('utf-8')\n",
        "\n",
        "X = df.drop('class', axis=1)\n",
        "y = df['class']\n",
        "y = (y == 'g').astype(int)\n",
        "\n",
        "scaler = MinMaxScaler()\n",
        "X_normalized = scaler.fit_transform(X)\n",
        "\n",
        "num_runs = 5\n",
        "train_accuracies = []\n",
        "test_accuracies = []\n",
        "\n",
        "for i in range(num_runs):\n",
        "    X_train, X_test, y_train, y_test = train_test_split(X_normalized, y, test_size=0.2, random_state=None)\n",
        "\n",
        "    knn = KNeighborsClassifier(n_neighbors=3, weights='uniform')\n",
        "    knn.fit(X_train, y_train)\n",
        "\n",
        "    y_train_pred = knn.predict(X_train)\n",
        "    y_test_pred = knn.predict(X_test)\n",
        "\n",
        "    train_accuracy = accuracy_score(y_train, y_train_pred)\n",
        "    test_accuracy = accuracy_score(y_test, y_test_pred)\n",
        "\n",
        "    train_accuracies.append(train_accuracy)\n",
        "    test_accuracies.append(test_accuracy)\n",
        "\n",
        "    print(f\"Run {i + 1}:\")\n",
        "    print(f\"  Train Accuracy: {train_accuracy:.4f}\")\n",
        "    print(f\"  Test Accuracy:  {test_accuracy:.4f}\")\n",
        "    print()\n",
        "\n",
        "print(\"Average Results:\")\n",
        "print(f\"  Average Train Accuracy: {np.mean(train_accuracies):.4f}\")\n",
        "print(f\"  Average Test Accuracy:  {np.mean(test_accuracies):.4f}\")\n"
      ]
    },
    {
      "cell_type": "markdown",
      "metadata": {
        "id": "NbwFDeJpxj9c"
      },
      "source": [
        "*Discuss the results of using normalized data vs. unnormalized data*\n",
        "\n",
        "**It looks like normalizing the data got us a marginal increase in accuracy. For how simple it was to implement, I'd say this was for sure worth the effort to get better results, even marginal ones.**"
      ]
    },
    {
      "cell_type": "markdown",
      "metadata": {
        "id": "dhJBOhlkxj9c"
      },
      "source": [
        "### 2.3 (10%) With Distance Weighting\n",
        "- Try it with k=3 and with distance weighting *and* normalization"
      ]
    },
    {
      "cell_type": "code",
      "source": [],
      "metadata": {
        "id": "J4E29d2zf0Si"
      },
      "execution_count": 96,
      "outputs": []
    },
    {
      "cell_type": "code",
      "execution_count": 97,
      "metadata": {
        "id": "u85vzQhzxj9c",
        "colab": {
          "base_uri": "https://localhost:8080/"
        },
        "outputId": "37e9abf8-66cc-44b7-af5b-34b1bad9cf96"
      },
      "outputs": [
        {
          "output_type": "stream",
          "name": "stdout",
          "text": [
            "Run 1:\n",
            "  Train Accuracy: 1.0000\n",
            "  Test Accuracy:  0.8268\n",
            "\n",
            "Run 2:\n",
            "  Train Accuracy: 1.0000\n",
            "  Test Accuracy:  0.8328\n",
            "\n",
            "Run 3:\n",
            "  Train Accuracy: 1.0000\n",
            "  Test Accuracy:  0.8344\n",
            "\n",
            "Run 4:\n",
            "  Train Accuracy: 1.0000\n",
            "  Test Accuracy:  0.8247\n",
            "\n",
            "Run 5:\n",
            "  Train Accuracy: 1.0000\n",
            "  Test Accuracy:  0.8339\n",
            "\n",
            "Average Results:\n",
            "  Average Train Accuracy: 1.0000\n",
            "  Average Test Accuracy:  0.8305\n"
          ]
        }
      ],
      "source": [
        "from sklearn.preprocessing import MinMaxScaler\n",
        "\n",
        "data, meta = arff.loadarff('MagicTelescopeDataset.arff')\n",
        "\n",
        "df = pd.DataFrame(data)\n",
        "df.columns = df.columns.str.replace(\":\", \"\")\n",
        "df['class'] = df['class'].str.decode('utf-8')\n",
        "\n",
        "X = df.drop('class', axis=1)\n",
        "y = df['class']\n",
        "y = (y == 'g').astype(int)\n",
        "\n",
        "scaler = MinMaxScaler()\n",
        "X_normalized = scaler.fit_transform(X)\n",
        "\n",
        "num_runs = 5\n",
        "train_accuracies = []\n",
        "test_accuracies = []\n",
        "\n",
        "for i in range(num_runs):\n",
        "    X_train, X_test, y_train, y_test = train_test_split(X_normalized, y, test_size=0.2, random_state=None)\n",
        "\n",
        "    knn = KNeighborsClassifier(n_neighbors=3, weights='distance')\n",
        "    knn.fit(X_train, y_train)\n",
        "\n",
        "    y_train_pred = knn.predict(X_train)\n",
        "    y_test_pred = knn.predict(X_test)\n",
        "\n",
        "    train_accuracy = accuracy_score(y_train, y_train_pred)\n",
        "    test_accuracy = accuracy_score(y_test, y_test_pred)\n",
        "\n",
        "    train_accuracies.append(train_accuracy)\n",
        "    test_accuracies.append(test_accuracy)\n",
        "\n",
        "    print(f\"Run {i + 1}:\")\n",
        "    print(f\"  Train Accuracy: {train_accuracy:.4f}\")\n",
        "    print(f\"  Test Accuracy:  {test_accuracy:.4f}\")\n",
        "    print()\n",
        "\n",
        "print(\"Average Results:\")\n",
        "print(f\"  Average Train Accuracy: {np.mean(train_accuracies):.4f}\")\n",
        "print(f\"  Average Test Accuracy:  {np.mean(test_accuracies):.4f}\")\n"
      ]
    },
    {
      "cell_type": "markdown",
      "metadata": {
        "id": "fMlv3Vs8xj9d"
      },
      "source": [
        "Comparison and Discussion\n",
        "\n",
        "**It seems that doing both is unhelpful. It seems like it has overfit the train set, which gives us a 100% accuracy on the train set, but almost no improvement to the test set. It would seem this should be avoided for this reason.**"
      ]
    },
    {
      "cell_type": "markdown",
      "metadata": {
        "id": "-CnE5IUWxj9d"
      },
      "source": [
        "### 2.4 (10%) Different k Values\n",
        "- Using your normalized data with distance weighting, create one graph with classification accuracy on the test set on the y-axis and k values on the x-axis.\n",
        "- Use values of k from 1 to 15.  Use the same train/test split for each."
      ]
    },
    {
      "cell_type": "code",
      "execution_count": 98,
      "metadata": {
        "id": "MiI1aQ3rxj9d",
        "colab": {
          "base_uri": "https://localhost:8080/",
          "height": 472
        },
        "outputId": "0f096806-fba1-487e-ef1d-6b275503fa0d"
      },
      "outputs": [
        {
          "output_type": "display_data",
          "data": {
            "text/plain": [
              "<Figure size 640x480 with 1 Axes>"
            ],
            "image/png": "[encoded data removed]"
          },
          "metadata": {}
        }
      ],
      "source": [
        "import matplotlib.pyplot as plt\n",
        "import numpy as np\n",
        "\n",
        "k_values = range(1, 16)\n",
        "test_accuracies_k = []\n",
        "\n",
        "X_train, X_test, y_train, y_test = train_test_split(X_normalized, y, test_size=0.2, random_state=42)\n",
        "\n",
        "for k in k_values:\n",
        "    knn = KNeighborsClassifier(n_neighbors=k, weights='distance')\n",
        "    knn.fit(X_train, y_train)\n",
        "    y_test_pred = knn.predict(X_test)\n",
        "    test_accuracy = accuracy_score(y_test, y_test_pred)\n",
        "    test_accuracies_k.append(test_accuracy)\n",
        "\n",
        "plt.plot(k_values, test_accuracies_k, marker='o')\n",
        "plt.xlabel('k')\n",
        "plt.ylabel('Test Accuracy')\n",
        "plt.title('Test Accuracy vs k for KNN with Distance Weighting')\n",
        "plt.xticks(k_values)\n",
        "plt.grid(True)\n",
        "plt.show()\n"
      ]
    },
    {
      "cell_type": "markdown",
      "metadata": {
        "id": "afXzDD-uxj9e"
      },
      "source": [
        "*Discussion*\n",
        "\n",
        "**Based on this graph, it looks like using too many neighbors can actually be a bad thing. Using too few is significantly worse, but it looks like there's a sweet spot at about 8-11 neighbors for this particular dataset**\n",
        "\n",
        "\n",
        "**I was curious at what k value the accuracy significantly diminishes, becoming worse than using 1 or 2 neighbors. I went up to 160 neighbors, and though it steadily decreased after 11 neighbors, it never went below 1 or 2 neighbors.**"
      ]
    },
    {
      "cell_type": "markdown",
      "metadata": {
        "id": "SIRG42TgSR4x"
      },
      "source": [
        "## 3 KNN Regression with normalization and distance weighting\n",
        "\n",
        "Use the [sklean KNeighborsRegressor](https://scikit-learn.org/stable/modules/generated/sklearn.neighbors.KNeighborsRegressor.html#sklearn.neighbors.KNeighborsRegressor) on the [housing price prediction](https://axon.cs.byu.edu/data/uci_regression/housing.arff) problem.  \n",
        "### 3.1 (5%) Ethical Data\n",
        "Note this data set has an example of an inappropriate input feature which we discussed.  State which feature is inappropriate and discuss why."
      ]
    },
    {
      "cell_type": "markdown",
      "metadata": {
        "id": "_znRt3mrxj9e"
      },
      "source": [
        "*Discuss the innapropriate feature*\n",
        "\n",
        "**The inappropriate feature is the B attribute, which introduces the amount of black residents in the town. This is a serious problem, because it introduces race into the calculation, which will cause bias an discrimination based on skin color. This should be avoided at all costs, just like how if a model that selects the next company CEO is given gender, it will always choose a male, because historically males have been CEOs. This is a significant oversight.**"
      ]
    },
    {
      "cell_type": "markdown",
      "metadata": {
        "id": "Xab2gaZYxj9e"
      },
      "source": [
        "### 3.2 (15%) - KNN Regression\n",
        "- Do random 80/20 train/test splits each time\n",
        "- Run with k=3\n",
        "- Print the score (coefficient of determination) and Mean Absolute Error (MAE) for the train and test set for the cases of\n",
        "  - No input normalization and no distance weighting\n",
        "  - Normalization and no distance weighting\n",
        "  - Normalization and distance weighting\n",
        "- Normalize inputs features where needed but do not normalize the output"
      ]
    },
    {
      "cell_type": "code",
      "execution_count": 99,
      "metadata": {
        "id": "KBGUn43ASiXW",
        "colab": {
          "base_uri": "https://localhost:8080/"
        },
        "outputId": "0d232598-78d1-4858-d3ac-d2020b185a80"
      },
      "outputs": [
        {
          "output_type": "stream",
          "name": "stdout",
          "text": [
            "Normalization: False, Distance Weighting: False\n",
            "Training R²: 0.7726, Test R²: 0.5221\n",
            "Training MAE: 3.0643, Test MAE: 3.8765\n",
            "----------------------------------------\n",
            "Normalization: True, Distance Weighting: False\n",
            "Training R²: 0.9038, Test R²: 0.8240\n",
            "Training MAE: 1.7970, Test MAE: 2.3722\n",
            "----------------------------------------\n",
            "Normalization: True, Distance Weighting: True\n",
            "Training R²: 1.0000, Test R²: 0.8268\n",
            "Training MAE: 0.0000, Test MAE: 2.3362\n",
            "----------------------------------------\n"
          ]
        },
        {
          "output_type": "execute_result",
          "data": {
            "text/plain": [
              "2.336194614627695"
            ]
          },
          "metadata": {},
          "execution_count": 99
        }
      ],
      "source": [
        "from sklearn.preprocessing import StandardScaler\n",
        "from sklearn.neighbors import KNeighborsRegressor\n",
        "from sklearn.metrics import mean_absolute_error, r2_score\n",
        "\n",
        "def knn(df, k=3, normalize=False, distance_weighting=False):\n",
        "    X = df.drop(columns=['MEDV'])\n",
        "    y = df['MEDV']\n",
        "\n",
        "    if normalize:\n",
        "        scaler = StandardScaler()\n",
        "        X = scaler.fit_transform(X)\n",
        "\n",
        "    X_train, X_test, y_train, y_test = train_test_split(X, y, test_size=0.2, random_state=42)\n",
        "\n",
        "    if distance_weighting:\n",
        "        knn = KNeighborsRegressor(n_neighbors=k, weights='distance')\n",
        "    else:\n",
        "        knn = KNeighborsRegressor(n_neighbors=k)\n",
        "\n",
        "    knn.fit(X_train, y_train)\n",
        "\n",
        "    y_train_pred = knn.predict(X_train)\n",
        "    y_test_pred = knn.predict(X_test)\n",
        "\n",
        "    r2_train = r2_score(y_train, y_train_pred)\n",
        "    r2_test = r2_score(y_test, y_test_pred)\n",
        "    mae_train = mean_absolute_error(y_train, y_train_pred)\n",
        "    mae_test = mean_absolute_error(y_test, y_test_pred)\n",
        "\n",
        "    print(f\"Normalization: {normalize}, Distance Weighting: {distance_weighting}\")\n",
        "    print(f\"Training R²: {r2_train:.4f}, Test R²: {r2_test:.4f}\")\n",
        "    print(f\"Training MAE: {mae_train:.4f}, Test MAE: {mae_test:.4f}\")\n",
        "    print(\"-\" * 40)\n",
        "    return mae_test\n",
        "\n",
        "data, meta = arff.loadarff(\"HousingPricePredictionDataset.arff\")\n",
        "df = pd.DataFrame(data)\n",
        "df = df.apply(pd.to_numeric)\n",
        "\n",
        "# 1: No normalization, no distance weighting\n",
        "knn(df, k=3, normalize=False, distance_weighting=False)\n",
        "\n",
        "# 2: Normalization, no distance weighting\n",
        "knn(df, k=3, normalize=True, distance_weighting=False)\n",
        "\n",
        "# 3: Normalization, distance weighting\n",
        "knn(df, k=3, normalize=True, distance_weighting=True)"
      ]
    },
    {
      "cell_type": "markdown",
      "metadata": {
        "id": "g5BTCq_qxj9f"
      },
      "source": [
        "*Discuss your results*\n",
        "\n",
        "**This matches up strongly with the classification problem. Using normalization gives a boost to accuracy, while using normalization AND distance weighting may be overfitting the train set, while not giving a significant boost to the test set. It seems that just normalization may be good**\n",
        "\n",
        "**I\"m curious what would happen if I just did distance weighting without normalization. I'm curious if it would be better or worse than with just normalization**"
      ]
    },
    {
      "cell_type": "markdown",
      "metadata": {
        "id": "YPc2qLY0xj9f"
      },
      "source": [
        "### 3.3 (10%)  Different k Values\n",
        "- Using housing with normalized data and distance weighting, create one graph with MAE on the test set on the y-axis and k values on the x-axis\n",
        "- Use values of k from 1 to 15.  Use the same train/test split for each."
      ]
    },
    {
      "cell_type": "code",
      "execution_count": 100,
      "metadata": {
        "id": "m9G1lv0ixj9g",
        "colab": {
          "base_uri": "https://localhost:8080/",
          "height": 1000
        },
        "outputId": "3da94c04-c843-48ef-96fe-a0e7b3b9b6c7"
      },
      "outputs": [
        {
          "output_type": "stream",
          "name": "stdout",
          "text": [
            "Normalization: True, Distance Weighting: True\n",
            "Training R²: 1.0000, Test R²: 0.8024\n",
            "Training MAE: 0.0000, Test MAE: 2.4480\n",
            "----------------------------------------\n",
            "Normalization: True, Distance Weighting: True\n",
            "Training R²: 1.0000, Test R²: 0.8281\n",
            "Training MAE: 0.0000, Test MAE: 2.2689\n",
            "----------------------------------------\n",
            "Normalization: True, Distance Weighting: True\n",
            "Training R²: 1.0000, Test R²: 0.8268\n",
            "Training MAE: 0.0000, Test MAE: 2.3362\n",
            "----------------------------------------\n",
            "Normalization: True, Distance Weighting: True\n",
            "Training R²: 1.0000, Test R²: 0.8188\n",
            "Training MAE: 0.0000, Test MAE: 2.4290\n",
            "----------------------------------------\n",
            "Normalization: True, Distance Weighting: True\n",
            "Training R²: 1.0000, Test R²: 0.8187\n",
            "Training MAE: 0.0000, Test MAE: 2.4665\n",
            "----------------------------------------\n",
            "Normalization: True, Distance Weighting: True\n",
            "Training R²: 1.0000, Test R²: 0.8036\n",
            "Training MAE: 0.0000, Test MAE: 2.5159\n",
            "----------------------------------------\n",
            "Normalization: True, Distance Weighting: True\n",
            "Training R²: 1.0000, Test R²: 0.8099\n",
            "Training MAE: 0.0000, Test MAE: 2.5272\n",
            "----------------------------------------\n",
            "Normalization: True, Distance Weighting: True\n",
            "Training R²: 1.0000, Test R²: 0.8004\n",
            "Training MAE: 0.0000, Test MAE: 2.5391\n",
            "----------------------------------------\n",
            "Normalization: True, Distance Weighting: True\n",
            "Training R²: 1.0000, Test R²: 0.8061\n",
            "Training MAE: 0.0000, Test MAE: 2.5031\n",
            "----------------------------------------\n",
            "Normalization: True, Distance Weighting: True\n",
            "Training R²: 1.0000, Test R²: 0.8053\n",
            "Training MAE: 0.0000, Test MAE: 2.5060\n",
            "----------------------------------------\n",
            "Normalization: True, Distance Weighting: True\n",
            "Training R²: 1.0000, Test R²: 0.8079\n",
            "Training MAE: 0.0000, Test MAE: 2.4731\n",
            "----------------------------------------\n",
            "Normalization: True, Distance Weighting: True\n",
            "Training R²: 1.0000, Test R²: 0.8145\n",
            "Training MAE: 0.0000, Test MAE: 2.4680\n",
            "----------------------------------------\n",
            "Normalization: True, Distance Weighting: True\n",
            "Training R²: 1.0000, Test R²: 0.8173\n",
            "Training MAE: 0.0000, Test MAE: 2.4434\n",
            "----------------------------------------\n",
            "Normalization: True, Distance Weighting: True\n",
            "Training R²: 1.0000, Test R²: 0.8161\n",
            "Training MAE: 0.0000, Test MAE: 2.4853\n",
            "----------------------------------------\n",
            "Normalization: True, Distance Weighting: True\n",
            "Training R²: 1.0000, Test R²: 0.8176\n",
            "Training MAE: 0.0000, Test MAE: 2.4848\n",
            "----------------------------------------\n"
          ]
        },
        {
          "output_type": "display_data",
          "data": {
            "text/plain": [
              "<Figure size 1000x600 with 1 Axes>"
            ],
            "image/png": "[encoded data removed]"
          },
          "metadata": {}
        }
      ],
      "source": [
        "import matplotlib.pyplot as plt\n",
        "import numpy as np\n",
        "\n",
        "mae_values = []\n",
        "\n",
        "for k in range(1, 16):\n",
        "    mae_test = knn(df, k=k, normalize=True, distance_weighting=True)\n",
        "    mae_values.append(mae_test)\n",
        "\n",
        "plt.figure(figsize=(10, 6))\n",
        "plt.plot(range(1, 16), mae_values, marker='o', linestyle='-', color='b')\n",
        "plt.title('Test MAE vs. k value with Normalization and Distance Weighting')\n",
        "plt.xlabel('k (Number of Neighbors)')\n",
        "plt.ylabel('Mean Absolute Error (MAE)')\n",
        "plt.xticks(np.arange(1, 16, 1))\n",
        "plt.grid(True)\n",
        "plt.show()\n"
      ]
    },
    {
      "cell_type": "markdown",
      "metadata": {
        "id": "2Bn68S5nxj9g"
      },
      "source": [
        "Discussion\n",
        "\n",
        "**It appears as though (just like with classification), around 6-9 neighbors nets the best results.**\n",
        "\n",
        "**A difference here however is that the results don't appear to decline linearly. Based on the graph, after 4 iterations, it is relatively stable. Whether this trend will continue up to a high number or not, I'm not sure. I'm also not sure if 14 and 15 being the same was just a fluke, or whether it was indicative of future behavior.**"
      ]
    },
    {
      "cell_type": "markdown",
      "metadata": {
        "id": "4DU_vRLkxj9g"
      },
      "source": [
        "## 4. (20%) KNN with nominal and real data\n",
        "\n",
        "- Use the [lymph dataset](https://axon.cs.byu.edu/data/uci_class/lymph.arff)\n",
        "- Use a 80/20 split of the data for the training/test set\n",
        "- This dataset has both continuous and nominal attributes\n",
        "- Implement a distance metric which uses Euclidean distance for continuous features and 0/1 distance for nominal. Hints:\n",
        "    - Write your own distance function (e.g. mydist) and use clf = KNeighborsClassifier(metric=mydist)\n",
        "    - Change the nominal features in the data set to integer values since KNeighborsClassifier expects numeric features. I used Label_Encoder on the nominal features.\n",
        "    - Keep a list of which features are nominal which mydist can use to decide which distance measure to use\n",
        "    - There was an occasional bug in SK version 1.3.0 (\"Flags object has no attribute 'c_contiguous'\") that went away when I upgraded to the lastest SK version 1.3.1\n",
        "- Use your own choice for k and other parameters"
      ]
    },
    {
      "cell_type": "code",
      "execution_count": 101,
      "metadata": {
        "id": "bCJ2aJUSxj9g",
        "colab": {
          "base_uri": "https://localhost:8080/"
        },
        "outputId": "43e9158c-4f8b-47aa-d62a-915228730835"
      },
      "outputs": [
        {
          "output_type": "stream",
          "name": "stdout",
          "text": [
            "Accuracy: 0.83\n"
          ]
        }
      ],
      "source": [
        "from sklearn.preprocessing import LabelEncoder\n",
        "\n",
        "data, meta = arff.loadarff(\"LymphDataset.arff\")\n",
        "df = pd.DataFrame(data)\n",
        "\n",
        "le = LabelEncoder()\n",
        "nominal_features = ['lymphatics', 'block_of_affere', 'bl_of_lymph_c', 'bl_of_lymph_s', 'by_pass',\n",
        "                    'extravasates', 'regeneration_of', 'early_uptake_in', 'changes_in_lym',\n",
        "                    'defect_in_node', 'changes_in_node', 'changes_in_stru', 'special_forms',\n",
        "                    'dislocation_of', 'exclusion_of_no', 'class']\n",
        "\n",
        "for feature in nominal_features:\n",
        "    df[feature] = le.fit_transform(df[feature].astype(str))\n",
        "\n",
        "X = df.drop('class', axis=1)\n",
        "y = df['class']\n",
        "\n",
        "X_train, X_test, y_train, y_test = train_test_split(X, y, test_size=0.2, random_state=42)\n",
        "\n",
        "continuous_features = ['lym_nodes_dimin', 'lym_nodes_enlar', 'no_of_nodes_in']\n",
        "continuous_indices = [X.columns.get_loc(col) for col in continuous_features]\n",
        "nominal_indices = [i for i in range(len(X.columns)) if i not in continuous_indices]\n",
        "\n",
        "def mydist(x1, x2):\n",
        "\n",
        "    continuous_dist = np.sqrt(np.sum((x1[continuous_indices] - x2[continuous_indices])**2))\n",
        "    nominal_dist = np.sum(x1[nominal_indices] != x2[nominal_indices])\n",
        "\n",
        "    return continuous_dist + nominal_dist\n",
        "\n",
        "k = 8\n",
        "clf = KNeighborsClassifier(n_neighbors=k, metric=mydist)\n",
        "clf.fit(X_train, y_train)\n",
        "\n",
        "y_pred = clf.predict(X_test)\n",
        "accuracy = accuracy_score(y_test, y_pred)\n",
        "\n",
        "print(f\"Accuracy: {accuracy:.2f}\")"
      ]
    },
    {
      "cell_type": "markdown",
      "metadata": {
        "id": "mCopLhUoxj9h"
      },
      "source": [
        "*Explain your distance metric and discuss your results*\n",
        "\n",
        "**My distance metric uses both a continous distance and a nominal distance, and adds them together at the end. It skips over the continuous distance if the values are nominal, and vice versa if the values are continuous.**\n",
        "\n",
        "**The accuracy value leads me to believe that my distance metric worked though, because the accuracy is about what I'd expect based on the previous datasets I've tried with knn**"
      ]
    },
    {
      "cell_type": "markdown",
      "metadata": {
        "id": "8NKyfDNVxj9h"
      },
      "source": [
        "## 5. (Optional 15% extra credit) Code up your own KNN Learner\n",
        "Below is a scaffold you could use if you want. Requirements for this task:\n",
        "- Your model should support the methods shown in the example scaffold below\n",
        "- Use Euclidean distance to decide closest neighbors\n",
        "- Implement both the classification and regression versions\n",
        "- Include optional distance weighting for both algorithms\n",
        "- Run your algorithm on the magic telescope and housing data sets above and discuss and compare your results"
      ]
    },
    {
      "cell_type": "markdown",
      "metadata": {
        "id": "9InjB306xj9h"
      },
      "source": [
        "*Discussion*"
      ]
    },
    {
      "cell_type": "code",
      "execution_count": 102,
      "metadata": {
        "id": "b2mCs79uxj9i"
      },
      "outputs": [],
      "source": [
        "from sklearn.base import BaseEstimator, ClassifierMixin\n",
        "\n",
        "class KNNClassifier(BaseEstimator,ClassifierMixin):\n",
        "    def __init__(self, columntype=[], weight_type='inverse_distance'): ## add parameters here\n",
        "        \"\"\"\n",
        "        Args:\n",
        "            columntype for each column tells you if continues[real] or if nominal[categoritcal].\n",
        "            weight_type: inverse_distance voting or if non distance weighting. Options = [\"no_weight\",\"inverse_distance\"]\n",
        "        \"\"\"\n",
        "        self.columntype = columntype #Note This won't be needed until part 5\n",
        "        self.weight_type = weight_type\n",
        "\n",
        "    def fit(self, data, labels):\n",
        "        \"\"\" Fit the data; run the algorithm (for this lab really just saves the data :D)\n",
        "        Args:\n",
        "            X (array-like): A 2D numpy array with the training data, excluding targets\n",
        "            y (array-like): A 2D numpy array with the training targets\n",
        "        Returns:\n",
        "            self: this allows this to be chained, e.g. model.fit(X,y).predict(X_test)\n",
        "        \"\"\"\n",
        "        return self\n",
        "\n",
        "    def predict(self, data):\n",
        "        \"\"\" Predict all classes for a dataset X\n",
        "        Args:\n",
        "            X (array-like): A 2D numpy array with the training data, excluding targets\n",
        "        Returns:\n",
        "            array, shape (n_samples,)\n",
        "                Predicted target values per element in X.\n",
        "        \"\"\"\n",
        "        pass\n",
        "\n",
        "    #Returns the Mean score given input data and labels\n",
        "    def score(self, X, y):\n",
        "        \"\"\" Return accuracy of model on a given dataset. Must implement own score function.\n",
        "        Args:\n",
        "            X (array-like): A 2D numpy array with data, excluding targets\n",
        "            y (array-like): A 2D numpy array with targets\n",
        "        Returns:\n",
        "            score : float\n",
        "                Mean accuracy of self.predict(X) wrt. y.\n",
        "        \"\"\"\n",
        "        return 0"
      ]
    }
  ],
  "metadata": {
    "colab": {
      "provenance": []
    },
    "kernelspec": {
      "display_name": "Python 3.10.7 64-bit",
      "language": "python",
      "name": "python3"
    },
    "language_info": {
      "codemirror_mode": {
        "name": "ipython",
        "version": 3
      },
      "file_extension": ".py",
      "mimetype": "text/x-python",
      "name": "python",
      "nbconvert_exporter": "python",
      "pygments_lexer": "ipython3",
      "version": "3.10.7"
    },
    "vscode": {
      "interpreter": {
        "hash": "aee8b7b246df8f9039afb4144a1f6fd8d2ca17a180786b69acc140d282b71a49"
      }
    }
  },
  "nbformat": 4,
  "nbformat_minor": 0
}