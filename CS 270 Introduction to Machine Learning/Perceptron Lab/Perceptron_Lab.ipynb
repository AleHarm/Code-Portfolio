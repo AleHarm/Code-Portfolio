{
  "cells": [
    {
      "cell_type": "markdown",
      "metadata": {
        "id": "DVL7_bgmIAPR"
      },
      "source": [
        "# Perceptron Lab"
      ]
    },
    {
      "cell_type": "markdown",
      "metadata": {
        "id": "rBIfzcfn3QPO"
      },
      "source": [
        "This is the scaffold notebook for the perceptron lab and each lab will have a similar scaffold.  Make your own copy of this notebook and then you can fill in the tasks.  **You will fill in code boxes and test boxes with discussion for most tasks** and particularly discussion of results, graphs, etc. Good writing, grammar, punctuation, etc. are important and points will be taken off if these things are lacking.\n",
        "\n",
        "In most cases just reporting results without discussion will not receive full credit. Thus, your discussion should also include sentences like the following: This is because…  Note that the …  I was surprised to observe… I am not sure why …, but my hypothesis is that …\n",
        "\n",
        "Start by looking over the scikit-learn [user guide](https://scikit-learn.org/stable/user_guide.html) and carefully reading over the [perceptron documentation](https://scikit-learn.org/stable/modules/generated/sklearn.linear_model.Perceptron.html)."
      ]
    },
    {
      "cell_type": "code",
      "execution_count": 53,
      "metadata": {
        "id": "6ZbYjZZZ_yLV"
      },
      "outputs": [],
      "source": [
        "# imports\n",
        "import numpy as np\n",
        "from scipy.io import arff\n",
        "import pandas as pd"
      ]
    },
    {
      "cell_type": "markdown",
      "metadata": {
        "id": "KibCIXIThpbE"
      },
      "source": [
        "## 1. Debug and Evaluation\n",
        "\n",
        "For most labs we will give you some data and expected results so that you can verify that you are doing things right and getting appropriate results.  We will then have you run on some other data with the exact same hyperparameters so we can see if your results are correct.\n",
        "\n",
        "### 1.1 Debug (5%)\n",
        "Download this [data set](https://raw.githubusercontent.com/cs472ta/CS472/master/datasets/linsep2nonorigin.arff) into your local directory and name it debug.arff.  To download rather than view, right-click the link and save as.  To allow consistent results run the Perceptron using the following hyperparameters:\n",
        "- Learning rate = .1\n",
        "- Do NOT shuffle the data after every epoch like you would normally do\n",
        "- Learn for a maximum of 10 epochs\n",
        "- Start all weights at 0 (which is the default for this scikit-learn implementation)  \n",
        "\n",
        "Your results should be:\n",
        "Accuracy = [.875]\\\n",
        "Final Weights = [[-0.23  0.18]]\\\n",
        "[-0.1] - This last weight is the bias weight, which they call the intercept.\n",
        "\n",
        "To help you with this first task, following is one detailed variation that would do this for you. You may use your own variation.  Note that commonly used variable names in the community are clf (classifier), X (array of input features), y (vector of output labels)."
      ]
    },
    {
      "cell_type": "code",
      "execution_count": 54,
      "metadata": {
        "id": "KgAyy82gixIF",
        "colab": {
          "base_uri": "https://localhost:8080/"
        },
        "outputId": "887c7204-24fc-44d6-c63a-df32beebbcf8"
      },
      "outputs": [
        {
          "output_type": "stream",
          "name": "stdout",
          "text": [
            "[[-0.23  0.18]]\n",
            "[-0.1]\n",
            "0.875\n"
          ]
        }
      ],
      "source": [
        "from sklearn.linear_model import Perceptron\n",
        "\n",
        "clf = Perceptron(shuffle=False, verbose=0, eta0=.1, max_iter=10)\n",
        "Data_Set = arff.loadarff('debug.arff')\n",
        "Data_Set_df = pd.DataFrame(Data_Set[0])\n",
        "Data_Set_np = Data_Set_df.to_numpy()\n",
        "Data_Set_np = Data_Set_np.astype(float)\n",
        "X = Data_Set_np[:, :-1]\n",
        "y = Data_Set_np[:, -1]\n",
        "clf.fit(X, y)\n",
        "print(clf.coef_)\n",
        "print(clf.intercept_)\n",
        "print(clf.score(X, y))"
      ]
    },
    {
      "cell_type": "code",
      "source": [
        "from google.colab import drive\n",
        "drive.mount('/content/drive')"
      ],
      "metadata": {
        "colab": {
          "base_uri": "https://localhost:8080/"
        },
        "id": "aaUh6X4EtUWI",
        "outputId": "613e078e-4606-453a-eff7-f10954eb2ff3"
      },
      "execution_count": 55,
      "outputs": [
        {
          "output_type": "stream",
          "name": "stdout",
          "text": [
            "Drive already mounted at /content/drive; to attempt to forcibly remount, call drive.mount(\"/content/drive\", force_remount=True).\n"
          ]
        }
      ]
    },
    {
      "cell_type": "markdown",
      "metadata": {
        "id": "d4Sjk0KY13tV"
      },
      "source": [
        "Notes:\n",
        "* If you increase (or just remove) max_iter your perceptron will converge to 100% in one more epoch.  Try it!\n",
        "* verbose (integer) specifies how much info you get after each epoch.  It does not change results.  Try it with 0.\n",
        "    * Norm is a measure of the total weight magnitudes in the current model.\n",
        "    * NNZs is the number of non-zero weights there currently are (not including the bias).\n",
        "    * clf.intercept_ is the value of the bias weight, NOT the actual y-intercept of the decision surface, though it will affect that.\n",
        "    * T is the total number of weight updates so far.  In this case all the weights were updated each epoch.\n",
        "    * Avg. loss is another measure of error.  More on that later.\n",
        "    * The activation function outputs 1 if net > 0, else 0."
      ]
    },
    {
      "cell_type": "markdown",
      "metadata": {
        "id": "kY3VNB1ui03N"
      },
      "source": [
        "### 1.2 (5%) Evaluation\n",
        "\n",
        "Now run your model  on the [evaluation dataset](https://raw.githubusercontent.com/cs472ta/CS472/master/datasets/data_banknote_authentication.arff) and report the final accuracy, weights, and bias. Use the exact same hyperparameters as the debug dataset. The most common reason for results not matching ours is not exactly using the same hyperparameters (e.g. initial weights, training exactly 10 epochs, no shuffling, etc.) Hint: Throughout these labs for the numerous cases where you are doing the same task, but with different data (e.g. debug, eval), you could create a function where you just pass the data set name, so as not to recreate the code multiple times."
      ]
    },
    {
      "cell_type": "code",
      "execution_count": 56,
      "metadata": {
        "id": "2yAxA78QjDh2",
        "colab": {
          "base_uri": "https://localhost:8080/"
        },
        "outputId": "7185b2de-d26c-47c3-8e4c-9454347703fd"
      },
      "outputs": [
        {
          "output_type": "stream",
          "name": "stdout",
          "text": [
            "Running perceptron on evaluation-dataset.arff\n",
            "-- Epoch 1\n",
            "Norm: 1.42, NNZs: 4, Bias: 2.100000, T: 1372, Avg. loss: 0.023615\n",
            "Total training time: 0.01 seconds.\n",
            "-- Epoch 2\n",
            "Norm: 2.90, NNZs: 4, Bias: 2.600000, T: 2744, Avg. loss: 0.022359\n",
            "Total training time: 0.01 seconds.\n",
            "-- Epoch 3\n",
            "Norm: 3.62, NNZs: 4, Bias: 3.500000, T: 4116, Avg. loss: 0.028435\n",
            "Total training time: 0.01 seconds.\n",
            "-- Epoch 4\n",
            "Norm: 4.36, NNZs: 4, Bias: 3.700000, T: 5488, Avg. loss: 0.013195\n",
            "Total training time: 0.01 seconds.\n",
            "-- Epoch 5\n",
            "Norm: 4.51, NNZs: 4, Bias: 4.300000, T: 6860, Avg. loss: 0.015216\n",
            "Total training time: 0.01 seconds.\n",
            "-- Epoch 6\n",
            "Norm: 4.70, NNZs: 4, Bias: 4.700000, T: 8232, Avg. loss: 0.026061\n",
            "Total training time: 0.01 seconds.\n",
            "-- Epoch 7\n",
            "Norm: 5.40, NNZs: 4, Bias: 4.600000, T: 9604, Avg. loss: 0.018060\n",
            "Total training time: 0.01 seconds.\n",
            "-- Epoch 8\n",
            "Norm: 5.83, NNZs: 4, Bias: 4.800000, T: 10976, Avg. loss: 0.018378\n",
            "Total training time: 0.01 seconds.\n",
            "-- Epoch 9\n",
            "Norm: 5.88, NNZs: 4, Bias: 5.200000, T: 12348, Avg. loss: 0.015085\n",
            "Total training time: 0.01 seconds.\n",
            "Convergence after 9 epochs took 0.01 seconds\n",
            "[[-4.28857497 -2.390381   -3.0160324  -1.1686672 ]]\n",
            "[5.2]\n",
            "0.9766763848396501\n",
            "\n",
            "\n",
            "\n"
          ]
        }
      ],
      "source": [
        "# Load evaluation data\n",
        "# Train on the evaluation data\n",
        "# print your accuracy and weights. Do not enter these values by hand.\n",
        "def runPerceptron(datasetName):\n",
        "  print(\"Running perceptron on \" + datasetName)\n",
        "  clf = Perceptron(shuffle=False, verbose=1, eta0=.1, max_iter=10)\n",
        "  Data_Set = arff.loadarff(datasetName)\n",
        "  Data_Set_df = pd.DataFrame(Data_Set[0])\n",
        "  Data_Set_np = Data_Set_df.to_numpy()\n",
        "  Data_Set_np = Data_Set_np.astype(float)\n",
        "  X = Data_Set_np[:, :-1]\n",
        "  y = Data_Set_np[:, -1]\n",
        "  clf.fit(X, y)\n",
        "  print(clf.coef_)\n",
        "  print(clf.intercept_)\n",
        "  print(clf.score(X, y))\n",
        "  print(\"\\n\\n\")\n",
        "\n",
        "runPerceptron(\"evaluation-dataset.arff\")"
      ]
    },
    {
      "cell_type": "markdown",
      "metadata": {
        "id": "U-4J5VcS9umq"
      },
      "source": [
        "**This one felt pretty straightforward. I just made a function to contain the running of the perceptron. I may come back and change it so that you need to pass hyperparameter values into the function. This would make it more robust.**\n",
        "\n",
        "**I was surprised at how quickly it converged with such a large data set, especially when compared to the debug example which took 11 epochs**"
      ]
    },
    {
      "cell_type": "markdown",
      "metadata": {
        "id": "9vWiTdlbR2Xh"
      },
      "source": [
        "## 2. Classifying on linearly separable and non-linearly separable data\n",
        "\n",
        "### 2.1 (5%) Create 2 datasets\n",
        "\n",
        "- Both with 8 instances using 2 real valued inputs with 4 instances from each class.\n",
        "- One data set should be linearly separable and the other not.\n",
        "- Show or print your datasets"
      ]
    },
    {
      "cell_type": "code",
      "execution_count": 57,
      "metadata": {
        "id": "4SSoasDQSKXb",
        "colab": {
          "base_uri": "https://localhost:8080/"
        },
        "outputId": "b188fc23-5d15-4924-bc99-470082496b7c"
      },
      "outputs": [
        {
          "output_type": "stream",
          "name": "stdout",
          "text": [
            "Good data\n",
            "      a1    a2 class\n",
            "0  10.0  10.0  b'1'\n",
            "1  10.1  10.1  b'1'\n",
            "2 -10.1 -10.1  b'0'\n",
            "3 -10.0 -10.0  b'0' \n",
            "\n",
            "\n",
            "Bad data\n",
            "      a1    a2 class\n",
            "0  10.0  10.0  b'0'\n",
            "1  10.0  10.0  b'1'\n",
            "2 -10.0 -10.0  b'0'\n",
            "3 -10.0 -10.0  b'1' \n",
            "\n",
            "\n"
          ]
        }
      ],
      "source": [
        "from scipy.io import arff\n",
        "\n",
        "# Load the ARFF files\n",
        "goodData, goodDataMeta = arff.loadarff(\"goodData.arff\")\n",
        "badData, badDataMeta = arff.loadarff(\"badData.arff\")\n",
        "\n",
        "# Good Data\n",
        "gdf = pd.DataFrame(goodData)\n",
        "print(\"Good data\\n\", gdf, \"\\n\\n\")\n",
        "\n",
        "# Bad Data\n",
        "bdf = pd.DataFrame(badData)\n",
        "print(\"Bad data\\n\", bdf, \"\\n\\n\")\n"
      ]
    },
    {
      "cell_type": "markdown",
      "metadata": {
        "id": "SIRG42TgSR4x"
      },
      "source": [
        "### 2.2 (5%) Train on both sets using the scikit-learn perceptron model\n",
        "- Train on each and print the results. Train until convergence (i.e. use the default max_iter by simply not specifying it).\n",
        "- You may choose your other hyperparameters."
      ]
    },
    {
      "cell_type": "code",
      "execution_count": 58,
      "metadata": {
        "id": "KBGUn43ASiXW",
        "colab": {
          "base_uri": "https://localhost:8080/"
        },
        "outputId": "2008e2d6-c880-4766-f22c-5b98202f7a3f"
      },
      "outputs": [
        {
          "output_type": "stream",
          "name": "stdout",
          "text": [
            "Running perceptron on goodData.arff\n",
            "-- Epoch 1\n",
            "Norm: 1.41, NNZs: 2, Bias: 0.100000, T: 4, Avg. loss: 0.000000\n",
            "Total training time: 0.00 seconds.\n",
            "-- Epoch 2\n",
            "Norm: 1.41, NNZs: 2, Bias: 0.100000, T: 8, Avg. loss: 0.000000\n",
            "Total training time: 0.00 seconds.\n",
            "-- Epoch 3\n",
            "Norm: 1.41, NNZs: 2, Bias: 0.100000, T: 12, Avg. loss: 0.000000\n",
            "Total training time: 0.01 seconds.\n",
            "-- Epoch 4\n",
            "Norm: 1.41, NNZs: 2, Bias: 0.100000, T: 16, Avg. loss: 0.000000\n",
            "Total training time: 0.01 seconds.\n",
            "-- Epoch 5\n",
            "Norm: 1.41, NNZs: 2, Bias: 0.100000, T: 20, Avg. loss: 0.000000\n",
            "Total training time: 0.01 seconds.\n",
            "-- Epoch 6\n",
            "Norm: 1.41, NNZs: 2, Bias: 0.100000, T: 24, Avg. loss: 0.000000\n",
            "Total training time: 0.01 seconds.\n",
            "Convergence after 6 epochs took 0.01 seconds\n",
            "[[1. 1.]]\n",
            "[0.1]\n",
            "1.0\n",
            "\n",
            "\n",
            "\n",
            "Running perceptron on badData.arff\n",
            "-- Epoch 1\n",
            "Norm: 0.00, NNZs: 0, Bias: 0.000000, T: 4, Avg. loss: 10.050000\n",
            "Total training time: 0.00 seconds.\n",
            "-- Epoch 2\n",
            "Norm: 0.00, NNZs: 0, Bias: 0.000000, T: 8, Avg. loss: 10.050000\n",
            "Total training time: 0.00 seconds.\n",
            "-- Epoch 3\n",
            "Norm: 0.00, NNZs: 0, Bias: 0.000000, T: 12, Avg. loss: 10.050000\n",
            "Total training time: 0.00 seconds.\n",
            "-- Epoch 4\n",
            "Norm: 0.00, NNZs: 0, Bias: 0.000000, T: 16, Avg. loss: 10.050000\n",
            "Total training time: 0.00 seconds.\n",
            "-- Epoch 5\n",
            "Norm: 0.00, NNZs: 0, Bias: 0.000000, T: 20, Avg. loss: 10.050000\n",
            "Total training time: 0.00 seconds.\n",
            "-- Epoch 6\n",
            "Norm: 0.00, NNZs: 0, Bias: 0.000000, T: 24, Avg. loss: 10.050000\n",
            "Total training time: 0.00 seconds.\n",
            "Convergence after 6 epochs took 0.00 seconds\n",
            "[[0. 0.]]\n",
            "[0.]\n",
            "0.5\n",
            "\n",
            "\n",
            "\n"
          ]
        }
      ],
      "source": [
        "# Train and print results with both datasets\n",
        "\n",
        "runPerceptron(\"goodData.arff\")\n",
        "runPerceptron(\"badData.arff\")"
      ]
    },
    {
      "cell_type": "markdown",
      "metadata": {
        "id": "890A39KX9zLC"
      },
      "source": [
        "\n",
        "**I was surprised to see that the non-linearly seperable dataset still converged, though there were no changes made to the weights. I confused as to why the probability is 50%, rather than 100% or 0%. I think it must be because the initial setting is 50% certainty and it never changed.**"
      ]
    },
    {
      "cell_type": "markdown",
      "metadata": {
        "id": "v19fpixqTe-7"
      },
      "source": [
        "### 2.3 (10%) Graph the datasets and their corresponding decision line\n",
        "\n",
        " - Graph each dataset\n",
        " - Use your trained perceptrons above to determine each dataset's decision line\n",
        "    - We discssed how to find the slope and intercept in class and the equation is in the Perceptron slides\n",
        " - For all graphs always label the axes!\n",
        " - Following are examples of what graphs could look like\n",
        "\n",
        "![Linearly Separable Data](https://raw.githubusercontent.com/rmorain/CS472-1/master/images/perceptron/linearly_separable.png)\n",
        "\n",
        "![Not Linearly Separable](https://raw.githubusercontent.com/rmorain/CS472-1/master/images/perceptron/not_linearly_separable.png)"
      ]
    },
    {
      "cell_type": "code",
      "execution_count": 59,
      "metadata": {
        "colab": {
          "base_uri": "https://localhost:8080/",
          "height": 472
        },
        "id": "8l64tZUqCEwy",
        "outputId": "3207929f-786f-46dc-89d9-6dc74d9ef6dc"
      },
      "outputs": [
        {
          "output_type": "display_data",
          "data": {
            "text/plain": [
              "<Figure size 640x480 with 1 Axes>"
            ],
            "image/png": "[encoded data removed]"
          },
          "metadata": {}
        }
      ],
      "source": [
        "# Sample Graph code, You can use any graphing approach you want including this one.\n",
        "# We encourage you to use matplotlib.\n",
        "import matplotlib.pyplot as plt\n",
        "\n",
        "# The data in this example is made up.  You will use your real data.\n",
        "data = np.array([[-.9,-.9],[-.6,.6],[-.3,.3],[-.1,.1],[.1,.456],[.3,-.324],[.6,.778],[.9,-.76]])\n",
        "labels = np.array([0,0,0,0,1,1,1,1])\n",
        "\n",
        "# Create a scatter plot of data\n",
        "plt.xlim(-1,1)\n",
        "plt.ylim(-1,1)\n",
        "scatter = plt.scatter(data[:,0], data[:,1], c = labels, s=200, cmap='seismic')\n",
        "legend = plt.legend(*scatter.legend_elements(num=1), title=\"Class\", loc='upper right') # Legend\n",
        "\n",
        "# Plot the learned separator.  We just made up the slope and intercept for this example. You need to calculate\n",
        "# the correct slope and intercept using your learned weights and bias.\n",
        "xlist = np.linspace(-1.0, 1.0, 100) # create 100 evenly spaced points between -1 and 1 for the x axis\n",
        "ylist = np.linspace(-1.0, 1.0, 100) # create 100 evenly spaced points between -1 and 1 for the y axis\n",
        "slope = -2  # made up\n",
        "intercept = 0.1 # made up\n",
        "eq = slope*xlist + intercept\n",
        "plt.plot(xlist,  eq, '-k', )\n",
        "plt.title('Linearly Separable Data Example')\n",
        "plt.xlabel('x')\n",
        "plt.ylabel('y')\n",
        "plt.grid() # add grid lines\n",
        "plt.show() # show the plot"
      ]
    },
    {
      "cell_type": "code",
      "execution_count": 60,
      "metadata": {
        "id": "ZCPFUAGTS2sX",
        "colab": {
          "base_uri": "https://localhost:8080/",
          "height": 927
        },
        "outputId": "915cb33d-22a8-4bbb-db49-b556cfdc1b4f"
      },
      "outputs": [
        {
          "output_type": "display_data",
          "data": {
            "text/plain": [
              "<Figure size 640x480 with 1 Axes>"
            ],
            "image/png": "[encoded data removed]"
          },
          "metadata": {}
        },
        {
          "output_type": "display_data",
          "data": {
            "text/plain": [
              "<Figure size 640x480 with 1 Axes>"
            ],
            "image/png": "[encoded data removed]"
          },
          "metadata": {}
        }
      ],
      "source": [
        "# Graph datasets and decision lines for both cases.\n",
        "import matplotlib.pyplot as plt\n",
        "\n",
        "## GOOD DATA\n",
        "data = np.array([[5,10],[10.1,10.1],[-10.1, -10.1],[-5, -10]])\n",
        "labels = np.array([1,1,0,0])\n",
        "\n",
        "# Create a scatter plot of data\n",
        "plt.xlim(-15,15)\n",
        "plt.ylim(-15,15)\n",
        "scatter = plt.scatter(data[:,0], data[:,1], c = labels, s=200, cmap='seismic')\n",
        "legend = plt.legend(*scatter.legend_elements(num=1), title=\"Class\", loc='upper right') # Legend\n",
        "\n",
        "xlist = np.linspace(-15.0, 15.0, 100) # create 100 evenly spaced points between -15 and 15 for the x axis\n",
        "ylist = np.linspace(-15.0, 15.0, 100) # create 100 evenly spaced points between -15 and 15 for the y axis\n",
        "slope = -.5\n",
        "intercept = -0.1\n",
        "eq = slope*xlist + intercept\n",
        "plt.plot(xlist,  eq, '-k', )\n",
        "plt.title('Good Data')\n",
        "plt.xlabel('x')\n",
        "plt.ylabel('y')\n",
        "plt.grid() # add grid lines\n",
        "plt.show() # show the plot\n",
        "\n",
        "\n",
        "\n",
        "## BAD DATA\n",
        "data = np.array([[5,10],[10,10],[-5, -10],[-10, -10]])\n",
        "labels = np.array([1,0,1,0])\n",
        "\n",
        "# Create a scatter plot of data\n",
        "plt.xlim(-15,15)\n",
        "plt.ylim(-15,15)\n",
        "scatter = plt.scatter(data[:,0], data[:,1], c = labels, s=200, cmap='seismic')\n",
        "legend = plt.legend(*scatter.legend_elements(num=1), title=\"Class\", loc='upper right') # Legend\n",
        "\n",
        "xlist = np.linspace(-15.0, 15.0, 100) # create 100 evenly spaced points between -15 and 15 for the x axis\n",
        "ylist = np.linspace(-15.0, 15.0, 100) # create 100 evenly spaced points between -15 and 15 for the y axis\n",
        "slope = -.5\n",
        "intercept = -1.9\n",
        "eq = slope*xlist + intercept\n",
        "plt.plot(xlist,  eq, '-k', )\n",
        "plt.title('Bad Data')\n",
        "plt.xlabel('x')\n",
        "plt.ylabel('y')\n",
        "plt.grid() # add grid lines\n",
        "plt.show() # show the plot"
      ]
    },
    {
      "cell_type": "markdown",
      "metadata": {
        "id": "M7dyHR0c92zd"
      },
      "source": [
        "**I was surprised that the line of linear seperability also approximated the line of best fit. I suppose that's just because of the dataset that I've chosen and that other data sets would not follow this same occurance, but it was interesting that when I changed my values, the line shifted to be more exactly in the middle of them**"
      ]
    },
    {
      "cell_type": "markdown",
      "metadata": {
        "id": "_N5RXV8AzdRF"
      },
      "source": [
        "### 2.4 (5%) Discuss why perceptrons in general will not get perfect accuracy on non-linearly separable data"
      ]
    },
    {
      "cell_type": "markdown",
      "metadata": {
        "id": "0hSjHuLdzdRF"
      },
      "source": [
        "**I'm not sure if I understand this question. It can be interpreted in two ways. I'll discuss them both:**\n",
        "\n",
        "**Option 1: Why perceptrons will not give correct outputs if the data given to them is not linearly seperable:**\n",
        "My thoughts are they would learn incorrectly, and those incorrect things they learn would sway the weights that they output. Because the weights keep getting influenced incorrectly with each iteration, they keep getting a little bit off, despite getting some amount back on each time.\n",
        "\n",
        "\n",
        "**Option 2: Why the line of seperability for non-linearly seperable data provided by the perceptron is not correct:**\n",
        "The line of seperability would not look correct because the weights output are not correct. Whatever the cause of the data being non-linearly seperable, those outliers or odd data points sway the output of the perceptron and give inaccurates weights and therefore inaccurate line of seperability"
      ]
    },
    {
      "cell_type": "markdown",
      "metadata": {
        "id": "0ySvhd1lUGSe"
      },
      "source": [
        "## 3. Use the perceptron to learn this version of the [voting data set](https://raw.githubusercontent.com/cs472ta/CS472/master/datasets/voting-dataset.arff)\n",
        "\n",
        "This particular task is an edited version of the standard voting set, where we have replaced all the “don’t know” values with the most common value for the particular attribute. Look at the [tutorial](https://github.com/cs472ta/CS472/blob/master/Tutorial.ipynb) from the Labs Content page to see examples of prepping the voting data set for sklearn.\n",
        "\n",
        "### 3.1 (10%) Average final training and test set accuracy over multiple trials\n",
        "\n",
        "- Learn the voting data five times with different random 70/30 Training/Test splits each time\n",
        "- Use a learning rate of 1.  The other hyperparameters are up to you.\n",
        "- Report the 5 trials and the average training and test accuracy and number of epochs to converge across the 5 trials in a table\n",
        "    - Below is an example of what a 2 trial table might look like\n",
        "\n",
        "| Trial | Training Accuracy | Test accuracy | Number of epochs |\n",
        "| --- | --- | --- | --- |\n",
        "| 1 | .950 | .550 | 4 |\n",
        "| 2 | .850 | .450 | 6 |\n",
        "| Average | .900 | .500 | 5 |\n",
        "\n",
        "*- As a rough sanity check, typical Perceptron test accuracies for the voting data set are 90%-98%.*\n"
      ]
    },
    {
      "cell_type": "code",
      "execution_count": 61,
      "metadata": {
        "id": "Romyl4G8Trki",
        "colab": {
          "base_uri": "https://localhost:8080/"
        },
        "outputId": "13f4c063-5967-4e46-c7e9-ff5f257dd8ba"
      },
      "outputs": [
        {
          "output_type": "stream",
          "name": "stdout",
          "text": [
            "  Trial  Training Accuracy  Test Accuracy  Number of Epochs\n",
            "      1           0.972050       0.956835              17.0\n",
            "      2           0.913043       0.906475              11.0\n",
            "      3           0.965839       0.949640              20.0\n",
            "      4           0.968944       0.964029              12.0\n",
            "      5           0.962733       0.964029              14.0\n",
            "Average           0.956522       0.948201              14.8\n"
          ]
        }
      ],
      "source": [
        "from sklearn.linear_model import Perceptron\n",
        "from sklearn.model_selection import train_test_split\n",
        "\n",
        "numEpochs = []\n",
        "trainAccuracies = []\n",
        "testAccuracies = []\n",
        "\n",
        "voting_data = arff.loadarff('votingDataSet.arff')\n",
        "voting_df = pd.DataFrame(voting_data[0])\n",
        "voting_np_data_from_scipy = voting_df.to_numpy()\n",
        "\n",
        "# Convert characters to numbers\n",
        "def convert_features_and_labels(data):\n",
        "    # Convert features (b'y' -> 1, b'n' -> 0)\n",
        "    X = np.array([[1 if value == b'y' else 0 for value in row[:-1]] for row in data])\n",
        "\n",
        "    # Convert labels (b'democrat' -> 0, b'republican' -> 1)\n",
        "    y = np.array([0 if label == b'democrat' else 1 for label in data[:, -1]])\n",
        "\n",
        "    return X, y\n",
        "\n",
        "X, y = convert_features_and_labels(voting_np_data_from_scipy)\n",
        "\n",
        "def runSplitPerceptron(datasetName, randomState):\n",
        "    clf = Perceptron(shuffle=False, verbose=0, eta0=1)\n",
        "    X_train, X_test, y_train, y_test = train_test_split(X, y, test_size=0.3, random_state=randomState)\n",
        "    clf.fit(X_train, y_train)\n",
        "    numEpochs.append(clf.n_iter_)\n",
        "\n",
        "    #Train accuracy\n",
        "    trainAccuracy = clf.score(X_train, y_train)\n",
        "    trainAccuracies.append(trainAccuracy)\n",
        "\n",
        "    # Test accuracy\n",
        "    testAccuracy = clf.score(X_test, y_test)\n",
        "    testAccuracies.append(testAccuracy)\n",
        "\n",
        "\n",
        "# Run the perceptron 5 times with different random splits\n",
        "for i in range(0, 5):\n",
        "    runSplitPerceptron(\"votingDataSet.arff\", i)\n",
        "\n",
        "\n",
        "averages = [np.mean(numEpochs), np.mean(trainAccuracies), np.mean(testAccuracies)]\n",
        "trainAccuracies.append(averages[1])\n",
        "testAccuracies.append(averages[2])\n",
        "numEpochs.append(averages[0])\n",
        "\n",
        "# Create a DataFrame\n",
        "data = {'Trial': [1,2,3,4,5, \"Average\"],\n",
        "        'Training Accuracy': trainAccuracies,\n",
        "        'Test Accuracy': testAccuracies,\n",
        "        'Number of Epochs': numEpochs,}\n",
        "\n",
        "df = pd.DataFrame(data)\n",
        "print(df.to_string(index=False))\n",
        "\n"
      ]
    },
    {
      "cell_type": "markdown",
      "metadata": {
        "id": "cm4rbWkzVeoR"
      },
      "source": [
        "### 3.2 (10%) Interpreting the Model\n",
        "- Learn with the perceptron once on the full voting data set\n",
        "- Look at the learned weights and bias and do your best to explain what the model has learned and how the individual input features affect the result.\n",
        "- Which specific features are most critical for the voting task, and which are least critical?"
      ]
    },
    {
      "cell_type": "code",
      "execution_count": 62,
      "metadata": {
        "id": "y3DLt-8W13uZ",
        "colab": {
          "base_uri": "https://localhost:8080/"
        },
        "outputId": "58cc536d-80e3-4f8b-add2-ef1f5bc396ed"
      },
      "outputs": [
        {
          "output_type": "stream",
          "name": "stdout",
          "text": [
            "[[ 2. -3. -7. 19.  3. -2.  1.  5. -9.  2. -9.  1.  0.  0. -3.  6.]]\n",
            "[-9.]\n",
            "0.9674620390455532\n",
            "\n",
            "\n",
            "\n"
          ]
        }
      ],
      "source": [
        "#Learn once on the full voting data set.  If you Look at our tutorial at the beginning\n",
        "\n",
        "clf = Perceptron(shuffle=False, verbose=0, eta0=1)\n",
        "X, y = convert_features_and_labels(voting_np_data_from_scipy)\n",
        "clf.fit(X, y)\n",
        "print(clf.coef_)\n",
        "print(clf.intercept_)\n",
        "print(clf.score(X, y))\n",
        "print(\"\\n\\n\")"
      ]
    },
    {
      "cell_type": "markdown",
      "metadata": {
        "id": "egG2si6d13uk"
      },
      "source": [
        "**Inputs 13 and 14 are 0. Additionally, I noticed that input 4 is MUCH higher than all the other inputs.**\n",
        "\n",
        "**This suggests that inputs 13 and 14 have been completely ignored and are irrevlevant to the outcome, while inputs 4 has a lot of influence on the outcome, almost double the next highest influencer**"
      ]
    },
    {
      "cell_type": "markdown",
      "metadata": {
        "id": "NyUmJ4yWVsQ7"
      },
      "source": [
        "### 3.3 (15%) Misclassification rate vs epochs\n",
        "\n",
        "Learn with the perceptron once on the full voting data set and graph the misclassification rate (number_misclassified  /  number_of_total_data_points) at each epoch until convergence (0th – final epoch).  Hints:\n",
        "- For the 0th epoch (i.e. initial weights), assume the initial misclassification rate is 50% and let that be the first point on your graph. Since there are 2 output classes, random guessing would only get it right about 1/2 of the time. Missclassifcation rate is 1 - accuracy.\n",
        "- Doing clf.fit with max_iter = 1, and warm_start=True will let you loop through epochs one at a time, allowing you to look at accuracy, etc. after each epoch.  But how do you know how many epochs to run until convergence?  One way is to just to first run it until convergence with random_state = c to see how many epochs it took (n_iter_).  Then run it again one epoch at a time n_iter_ times using the same random_state constant c (so that you get the exact same conditions).\n",
        "- Below is a rough example of what this type of graph might look like (though this graph is for avg rate across multiple trials)\n",
        "\n",
        "![Average Misclassification Rate](https://raw.githubusercontent.com/rmorain/CS472-1/master/images/perceptron/avg_misclassification_rate_vs_epochs.png)"
      ]
    },
    {
      "cell_type": "code",
      "execution_count": 63,
      "metadata": {
        "id": "2_ZRPWWVVeFM",
        "colab": {
          "base_uri": "https://localhost:8080/",
          "height": 472
        },
        "outputId": "6177c7dd-801c-416f-84d8-9c702b53dc12"
      },
      "outputs": [
        {
          "output_type": "display_data",
          "data": {
            "text/plain": [
              "<Figure size 640x480 with 1 Axes>"
            ],
            "image/png": "[encoded data removed]"
          },
          "metadata": {}
        }
      ],
      "source": [
        "# Learn once on the full voting data set, while gathering info after every epoch\n",
        "# Then Graph it here.  Here is some sample graph code, but you can do it your own way, including using a bar graph, etc.\n",
        "import warnings\n",
        "from sklearn.exceptions import ConvergenceWarning\n",
        "\n",
        "# Ignore ConvergenceWarning\n",
        "warnings.filterwarnings(\"ignore\", category=ConvergenceWarning)\n",
        "\n",
        "misclassificationData = [.5]\n",
        "\n",
        "\n",
        "def plot_misclassification(misclassification_rate):\n",
        "    \"\"\"\n",
        "        Plots the misclassification rate\n",
        "    Args:\n",
        "        misclassification_rate (array-like): A 1D array or list of missclassifcation rate at every epoch\n",
        "    \"\"\"\n",
        "    plt.plot(np.arange(len(misclassification_rate)), misclassification_rate)\n",
        "    plt.title(\"Misclassification Rate vs. Epoch\")\n",
        "    plt.xlabel(\"Epoch\")\n",
        "    plt.ylabel(\"Misclassification Rate\")\n",
        "    plt.show()\n",
        "\n",
        "\n",
        "def calcPerceptronMisclassificationRate(randomState):\n",
        "  perceptron = Perceptron(shuffle=False, verbose=0, eta0=1, random_state=randomState)\n",
        "  X, y = convert_features_and_labels(voting_np_data_from_scipy)\n",
        "  numIterTillConvergence = perceptron.fit(X, y).n_iter_\n",
        "\n",
        "  perceptron = Perceptron(shuffle=False, verbose=0, eta0=1, warm_start=True, max_iter=1, random_state=randomState)\n",
        "  converged = False\n",
        "  iterations = 0\n",
        "  while not converged:\n",
        "\n",
        "    perceptron.fit(X, y)\n",
        "    misclassificationData.append(1 - perceptron.score(X, y))\n",
        "\n",
        "    if iterations == numIterTillConvergence:\n",
        "        converged = True\n",
        "    else:\n",
        "        iterations += 1\n",
        "\n",
        "calcPerceptronMisclassificationRate(123)\n",
        "plot_misclassification(misclassificationData)"
      ]
    },
    {
      "cell_type": "markdown",
      "metadata": {
        "id": "PgqUrgh--GeU"
      },
      "source": [
        "**I was surprised to see the bump up in inacurracy at epoch 4. I don't know why this would be. My theory is that the data contains noise, and that noise takes a second to understand and ignore. I was also surprised to see that the point of convergence was not the lowest point on the graph. it was actually the epoch BEFORE convergence that was the most accurate. But the good news is it's all so low, it's probably fine anyway**"
      ]
    },
    {
      "cell_type": "markdown",
      "metadata": {
        "id": "zHE6ojUZ13un"
      },
      "source": [
        "### 3.4 (15%) Hyperparameters\n",
        "Read over all the Hyperparameters and their defaults in the scikit [perceptron documentation](https://scikit-learn.org/stable/modules/generated/sklearn.linear_model.Perceptron.html). With the voting data set, experiment briefly with EACH of the following 6 hyperparameters and discuss your findings.\n",
        "- shuffle\n",
        "- eta0 - learning rate\n",
        "- verbose\n",
        "- fit_intercept - whether to use a bias weight or not\n",
        "- random state\n",
        "- warm start"
      ]
    },
    {
      "cell_type": "code",
      "execution_count": 64,
      "metadata": {
        "id": "-4WxTE0E13un",
        "colab": {
          "base_uri": "https://localhost:8080/"
        },
        "outputId": "aae9c6c4-51dd-42d2-c177-03b3d34b7249"
      },
      "outputs": [
        {
          "output_type": "stream",
          "name": "stdout",
          "text": [
            "Everything Nominal!\n",
            "[[ 2. -3. -7. 19.  3. -2.  1.  5. -9.  2. -9.  1.  0.  0. -3.  6.]]\n",
            "[-9.]\n",
            "0.9674620390455532\n",
            "\n",
            "\n",
            "\n",
            "Shuffle on!\n",
            "[[  0.  -3.  -8.  17.   4.  -2.   5.   6.  -7.   5. -10.  -1.  -1.   0.\n",
            "   -4.   5.]]\n",
            "[-9.]\n",
            "0.9609544468546638\n",
            "\n",
            "\n",
            "\n",
            "Large learning rate!\n",
            "[[ 100. -150. -350.  950.  150. -100.   50.  250. -450.  100. -450.   50.\n",
            "     0.    0. -150.  300.]]\n",
            "[-450.]\n",
            "0.9674620390455532\n",
            "\n",
            "\n",
            "\n",
            "Tiny learning rate!\n",
            "[[ 1.00000000e-05 -1.00000000e-05 -6.00000000e-05  1.50000000e-04\n",
            "   2.00000000e-05 -1.00000000e-05  3.38813179e-21  4.00000000e-05\n",
            "  -6.00000000e-05  2.00000000e-05 -7.00000000e-05  2.00000000e-05\n",
            "  -3.38813179e-21  3.38813179e-21 -3.00000000e-05  5.00000000e-05]]\n",
            "[-8.e-05]\n",
            "0.9609544468546638\n",
            "\n",
            "\n",
            "\n",
            "Verbose on!\n",
            "-- Epoch 1\n",
            "Norm: 13.78, NNZs: 15, Bias: -2.000000, T: 461, Avg. loss: 0.240781\n",
            "Total training time: 0.00 seconds.\n",
            "-- Epoch 2\n",
            "Norm: 17.23, NNZs: 13, Bias: -4.000000, T: 922, Avg. loss: 0.188720\n",
            "Total training time: 0.00 seconds.\n",
            "-- Epoch 3\n",
            "Norm: 18.84, NNZs: 13, Bias: -4.000000, T: 1383, Avg. loss: 0.162690\n",
            "Total training time: 0.00 seconds.\n",
            "-- Epoch 4\n",
            "Norm: 21.14, NNZs: 16, Bias: -5.000000, T: 1844, Avg. loss: 0.206074\n",
            "Total training time: 0.01 seconds.\n",
            "-- Epoch 5\n",
            "Norm: 23.26, NNZs: 14, Bias: -7.000000, T: 2305, Avg. loss: 0.184382\n",
            "Total training time: 0.01 seconds.\n",
            "-- Epoch 6\n",
            "Norm: 24.78, NNZs: 16, Bias: -8.000000, T: 2766, Avg. loss: 0.199566\n",
            "Total training time: 0.01 seconds.\n",
            "-- Epoch 7\n",
            "Norm: 25.44, NNZs: 15, Bias: -9.000000, T: 3227, Avg. loss: 0.210412\n",
            "Total training time: 0.01 seconds.\n",
            "-- Epoch 8\n",
            "Norm: 25.96, NNZs: 14, Bias: -9.000000, T: 3688, Avg. loss: 0.199566\n",
            "Total training time: 0.01 seconds.\n",
            "Convergence after 8 epochs took 0.01 seconds\n",
            "[[ 2. -3. -7. 19.  3. -2.  1.  5. -9.  2. -9.  1.  0.  0. -3.  6.]]\n",
            "[-9.]\n",
            "0.9674620390455532\n",
            "\n",
            "\n",
            "\n",
            "No bias weight!\n",
            "[[ 0. -4. -5. 13.  2. -2.  0.  3. -5.  2. -9.  2. -1. -1. -3.  4.]]\n",
            "[0.]\n",
            "0.9522776572668112\n",
            "\n",
            "\n",
            "\n",
            "Random state 1!\n",
            "[[ 2. -3. -7. 19.  3. -2.  1.  5. -9.  2. -9.  1.  0.  0. -3.  6.]]\n",
            "[-9.]\n",
            "0.9674620390455532\n",
            "\n",
            "\n",
            "\n",
            "Random state 2!\n",
            "[[ 2. -3. -7. 19.  3. -2.  1.  5. -9.  2. -9.  1.  0.  0. -3.  6.]]\n",
            "[-9.]\n",
            "0.9674620390455532\n",
            "\n",
            "\n",
            "\n",
            "Warm start on!\n",
            "[[ 2. -3. -7. 19.  3. -2.  1.  5. -9.  2. -9.  1.  0.  0. -3.  6.]]\n",
            "[-9.]\n",
            "0.9674620390455532\n",
            "\n",
            "\n",
            "\n"
          ]
        }
      ],
      "source": [
        "# Run the model with different hyperparameters\n",
        "\n",
        "X, y = convert_features_and_labels(voting_np_data_from_scipy)\n",
        "\n",
        "print(\"Everything Nominal!\")\n",
        "clf = Perceptron(shuffle=False, verbose=0, eta0=1)\n",
        "clf.fit(X, y)\n",
        "print(clf.coef_)\n",
        "print(clf.intercept_)\n",
        "print(clf.score(X, y))\n",
        "print(\"\\n\\n\")\n",
        "\n",
        "print(\"Shuffle on!\")\n",
        "clf = Perceptron(shuffle=True, verbose=0, eta0=1)\n",
        "clf.fit(X, y)\n",
        "print(clf.coef_)\n",
        "print(clf.intercept_)\n",
        "print(clf.score(X, y))\n",
        "print(\"\\n\\n\")\n",
        "\n",
        "print(\"Large learning rate!\")\n",
        "clf = Perceptron(shuffle=False, verbose=0, eta0=50)\n",
        "clf.fit(X, y)\n",
        "print(clf.coef_)\n",
        "print(clf.intercept_)\n",
        "print(clf.score(X, y))\n",
        "print(\"\\n\\n\")\n",
        "\n",
        "print(\"Tiny learning rate!\")\n",
        "clf = Perceptron(shuffle=False, verbose=0, eta0=.00001)\n",
        "clf.fit(X, y)\n",
        "print(clf.coef_)\n",
        "print(clf.intercept_)\n",
        "print(clf.score(X, y))\n",
        "print(\"\\n\\n\")\n",
        "\n",
        "print(\"Verbose on!\")\n",
        "clf = Perceptron(shuffle=False, verbose=1, eta0=1)\n",
        "clf.fit(X, y)\n",
        "print(clf.coef_)\n",
        "print(clf.intercept_)\n",
        "print(clf.score(X, y))\n",
        "print(\"\\n\\n\")\n",
        "\n",
        "print(\"No bias weight!\")\n",
        "clf = Perceptron(shuffle=False, verbose=0, eta0=1, fit_intercept=False)\n",
        "clf.fit(X, y)\n",
        "print(clf.coef_)\n",
        "print(clf.intercept_)\n",
        "print(clf.score(X, y))\n",
        "print(\"\\n\\n\")\n",
        "\n",
        "print(\"Random state 1!\")\n",
        "clf = Perceptron(shuffle=False, verbose=0, eta0=1, random_state=1)\n",
        "clf.fit(X, y)\n",
        "print(clf.coef_)\n",
        "print(clf.intercept_)\n",
        "print(clf.score(X, y))\n",
        "print(\"\\n\\n\")\n",
        "\n",
        "print(\"Random state 2!\")\n",
        "clf = Perceptron(shuffle=False, verbose=0, eta0=1, random_state=2)\n",
        "clf.fit(X, y)\n",
        "print(clf.coef_)\n",
        "print(clf.intercept_)\n",
        "print(clf.score(X, y))\n",
        "print(\"\\n\\n\")\n",
        "\n",
        "print(\"Warm start on!\")\n",
        "clf = Perceptron(shuffle=False, verbose=0, eta0=1, warm_start=True)\n",
        "clf.fit(X, y)\n",
        "print(clf.coef_)\n",
        "print(clf.intercept_)\n",
        "print(clf.score(X, y))\n",
        "print(\"\\n\\n\")"
      ]
    },
    {
      "cell_type": "markdown",
      "metadata": {
        "id": "4BBdl9vF13uo"
      },
      "source": [
        "**Intersting experiments! I was surprised to see that the nominal test, and both random_state tests resulted in the exact same numbers.**\n",
        "\n",
        "**Another intersting thing is that changing the learning rate seemed to just change the scale of the weights. The large numbered learning rate put out massive weights, and the small learning rate put out tiny weights. I suspect this is because there are many local minimums on the way to the global minimum, and both of those fell into those. This is good and bad, because while their accuracy was good, it may not have been optimal, or taken an optimal amount of time.**\n",
        "\n",
        "**Shuffling and no having a bias weight didn't seem to affect things too much, but it's also hard to see effect just from raw data**"
      ]
    },
    {
      "cell_type": "markdown",
      "metadata": {
        "id": "mxssT08TzdRH"
      },
      "source": [
        "## 4 (15%) Use the perceptron to learn one other data set of your choice.  \n",
        "- The UC Irvine Data Repository is one great source, but you may get your data set from wherever you like, though it should be a real world task.\n",
        "- Report your results"
      ]
    },
    {
      "cell_type": "code",
      "execution_count": 84,
      "metadata": {
        "id": "hqPZLMf1zdRH",
        "colab": {
          "base_uri": "https://localhost:8080/"
        },
        "outputId": "5aa2b53b-d730-429a-fbcd-4b1bb0f8f559"
      },
      "outputs": [
        {
          "output_type": "stream",
          "name": "stdout",
          "text": [
            "-- Epoch 1\n",
            "Norm: 0.02, NNZs: 13, Bias: -0.020000, T: 178, Avg. loss: 0.000194\n",
            "Total training time: 0.00 seconds.\n",
            "-- Epoch 2\n",
            "Norm: 0.03, NNZs: 13, Bias: -0.020000, T: 356, Avg. loss: 0.000314\n",
            "Total training time: 0.00 seconds.\n",
            "-- Epoch 3\n",
            "Norm: 0.03, NNZs: 13, Bias: -0.030000, T: 534, Avg. loss: 0.000115\n",
            "Total training time: 0.00 seconds.\n",
            "-- Epoch 4\n",
            "Norm: 0.04, NNZs: 13, Bias: -0.030000, T: 712, Avg. loss: 0.000314\n",
            "Total training time: 0.01 seconds.\n",
            "-- Epoch 5\n",
            "Norm: 0.05, NNZs: 13, Bias: -0.030000, T: 890, Avg. loss: 0.000103\n",
            "Total training time: 0.01 seconds.\n",
            "-- Epoch 6\n",
            "Norm: 0.05, NNZs: 13, Bias: -0.030000, T: 1068, Avg. loss: 0.000068\n",
            "Total training time: 0.01 seconds.\n",
            "Convergence after 6 epochs took 0.01 seconds\n",
            "-- Epoch 1\n",
            "Norm: 0.02, NNZs: 13, Bias: 0.000000, T: 178, Avg. loss: 0.000436\n",
            "Total training time: 0.00 seconds.\n",
            "-- Epoch 2\n",
            "Norm: 0.03, NNZs: 13, Bias: 0.000000, T: 356, Avg. loss: 0.000012\n",
            "Total training time: 0.00 seconds.\n",
            "-- Epoch 3\n",
            "Norm: 0.03, NNZs: 13, Bias: 0.000000, T: 534, Avg. loss: 0.000027\n",
            "Total training time: 0.00 seconds.\n",
            "-- Epoch 4\n",
            "Norm: 0.04, NNZs: 13, Bias: -0.010000, T: 712, Avg. loss: 0.000189\n",
            "Total training time: 0.00 seconds.\n",
            "-- Epoch 5\n",
            "Norm: 0.04, NNZs: 13, Bias: 0.000000, T: 890, Avg. loss: 0.000313\n",
            "Total training time: 0.00 seconds.\n",
            "-- Epoch 6\n",
            "Norm: 0.04, NNZs: 13, Bias: 0.000000, T: 1068, Avg. loss: 0.000124\n",
            "Total training time: 0.00 seconds.\n",
            "Convergence after 6 epochs took 0.00 seconds\n",
            "-- Epoch 1\n",
            "Norm: 0.01, NNZs: 13, Bias: 0.010000, T: 178, Avg. loss: 0.000196\n",
            "Total training time: 0.00 seconds.\n",
            "-- Epoch 2\n",
            "Norm: 0.02, NNZs: 13, Bias: 0.010000, T: 356, Avg. loss: 0.000095\n",
            "Total training time: 0.00 seconds.\n",
            "-- Epoch 3\n",
            "Norm: 0.03, NNZs: 13, Bias: 0.010000, T: 534, Avg. loss: 0.000036\n",
            "Total training time: 0.00 seconds.\n",
            "-- Epoch 4\n",
            "Norm: 0.04, NNZs: 13, Bias: 0.020000, T: 712, Avg. loss: 0.000069\n",
            "Total training time: 0.00 seconds.\n",
            "-- Epoch 5\n",
            "Norm: 0.05, NNZs: 13, Bias: 0.020000, T: 890, Avg. loss: 0.000118\n",
            "Total training time: 0.00 seconds.\n",
            "-- Epoch 6\n",
            "Norm: 0.05, NNZs: 13, Bias: 0.020000, T: 1068, Avg. loss: 0.000049\n",
            "Total training time: 0.00 seconds.\n",
            "Convergence after 6 epochs took 0.00 seconds\n",
            "Coefficients: [[ 0.01371053  0.00343874  0.00604278 -0.01927835  0.01086957 -0.01310345\n",
            "   0.00510549 -0.01603774  0.00977918  0.00367747 -0.02235772  0.01967033\n",
            "   0.0182525 ]\n",
            " [-0.01747368 -0.00100791 -0.01609626 -0.01025773 -0.00913043  0.01106897\n",
            "  -0.00075949  0.01075472 -0.00766562 -0.01352389  0.02170732  0.01461538\n",
            "  -0.00945078]\n",
            " [-0.00223684  0.00166008  0.00957219  0.01443299  0.00402174 -0.01334483\n",
            "  -0.01603376  0.00924528 -0.01378549  0.00733788 -0.00964228 -0.03941392\n",
            "  -0.00742511]]\n",
            "Intercept: [-0.03  0.    0.02]\n",
            "Accuracy Score: 0.7752808988764045\n"
          ]
        }
      ],
      "source": [
        "from scipy.io import arff\n",
        "import pandas as pd\n",
        "from sklearn.linear_model import Perceptron\n",
        "import numpy as np\n",
        "from sklearn.preprocessing import MinMaxScaler\n",
        "\n",
        "\n",
        "wine_data = arff.loadarff('wine_dataset.arff')\n",
        "wine_df = pd.DataFrame(wine_data[0])\n",
        "\n",
        "scaler = MinMaxScaler()\n",
        "numeric_cols = wine_df.columns[:-1]\n",
        "wine_df[numeric_cols] = scaler.fit_transform(wine_df[numeric_cols])\n",
        "\n",
        "wine_df['class'] = wine_df['class'].apply(lambda x: x.decode('utf-8'))\n",
        "\n",
        "wine_np_data_from_scipy = wine_df.to_numpy()\n",
        "\n",
        "X, y = wine_np_data_from_scipy[:, :-1], wine_np_data_from_scipy[:, -1]\n",
        "\n",
        "\n",
        "clf = Perceptron(shuffle=False, verbose=1, eta0=.01)\n",
        "clf.fit(X, y)\n",
        "\n",
        "print(\"Coefficients:\", clf.coef_)\n",
        "print(\"Intercept:\", clf.intercept_)\n",
        "print(\"Accuracy Score:\", clf.score(X, y))\n"
      ]
    },
    {
      "cell_type": "markdown",
      "metadata": {
        "id": "BqSFAXwlk3Ms"
      },
      "source": [
        "**This data seemed to do okay! At first I got a really low accuracy score, but then I realized I had my learning rate set to 10. So instead I lowered it down to .1. I also tried lowering it past .1 to .01, but that didn't increase the accuracy in any meaningful way so I moved it back to .1**\n",
        "\n",
        "**That being said, the accuracy score is still lower than I'd like it to be. I suspect that this is because of the complexity of the dataset. This dataset has 3 outputs, and because of that it had to run fit 3 times. I suspect that the errors in each may have compounded because of this.**\n",
        "\n",
        "**It seems as though the middle bias was completely ignored, and I'm not sure what to make of that. It might be that I'm looking at the wrong iteration, but I'm not sure**"
      ]
    },
    {
      "cell_type": "markdown",
      "metadata": {
        "id": "cTlK-kijk8Mg"
      },
      "source": [
        "## 5. (Optional 15% extra credit) Code up your own perceptron learner\n",
        "\n",
        "Past versions of this class required students to code up their own version of each model and then compare results with scikit-learn.  Actually coding a model leads to better understanding of what is really happening \"under the hood.\"  Though not required for this class, we give a significant extra credit reward for each lab to those who choose to code their own models.  If you choose to do this, your code must be your own, and NOT taken from any other source (including the text).  Once you are done coding we encourage you to look at other versions to see how yours compares.  Below is a scaffold you could use if you want. Requirements for this task:\n",
        "- Your perceptron should support the methods shown in the example scaffold below.\n",
        "- Your output node should output 1 if net is > 0, else 0.\n",
        "- Use Stochastic/On-line training updates: Iterate and update weights after each training instance (i.e. not batch updates)\n",
        "- Implement a stopping criteria: when your model has trained for a number of epochs with no improvement in accuracy, stop training. Note that the weights/accuracy do not usually change monotonically.\n",
        "- Your class can inherit from the relevant scikit-learn learners (e.g. data shuffling, etc.), but don't call any of the super methods to accomplish the core methods in the scaffold.\n",
        "- Run the evaluation data set and the voting data set above with your Perceptron version. Show and discuss your results and how they compare with the scikit-learn version."
      ]
    },
    {
      "cell_type": "code",
      "execution_count": null,
      "metadata": {
        "id": "5iY77P7gk1Nh"
      },
      "outputs": [],
      "source": [
        "# Your Perceptron Code"
      ]
    },
    {
      "cell_type": "markdown",
      "metadata": {
        "id": "CCMC9aHQ-IGL"
      },
      "source": [
        "*Discussion*"
      ]
    },
    {
      "cell_type": "code",
      "execution_count": null,
      "metadata": {
        "id": "PlfklvbA13ut"
      },
      "outputs": [],
      "source": [
        "# Optional scaffold for Extra Credit Perceptron code.  IF you use this feel free to change/add any methods you want.\n",
        "\n",
        "from sklearn.base import BaseEstimator, ClassifierMixin\n",
        "class PerceptronClassifier(BaseEstimator,ClassifierMixin):\n",
        "\n",
        "    def __init__(self, lr=.1, shuffle=True):\n",
        "        \"\"\"\n",
        "            Initialize class with chosen hyperparameters.\n",
        "        Args:\n",
        "            lr (float): A learning rate / step size.\n",
        "            shuffle: Whether to shuffle the training data each epoch. DO NOT\n",
        "            SHUFFLE for evaluation / debug datasets.\n",
        "        \"\"\"\n",
        "        self.lr = lr\n",
        "        self.shuffle = shuffle\n",
        "\n",
        "    def fit(self, X, y, initial_weights=None):\n",
        "        \"\"\"\n",
        "            Fit the data; run the algorithm and adjust the weights to find a\n",
        "            good solution\n",
        "        Args:\n",
        "            X (array-like): A 2D numpy array with the training data, excluding\n",
        "            targets\n",
        "            y (array-like): A 2D numpy array with the training targets\n",
        "            initial_weights (array-like): allows the user to provide initial\n",
        "            weights\n",
        "        Returns:\n",
        "            self: this allows this to be chained, e.g. model.fit(X,y).predict(X_test)\n",
        "        \"\"\"\n",
        "        self.weights = self.initialize_weights() if not initial_weights else initial_weights\n",
        "\n",
        "        return self\n",
        "\n",
        "    def predict(self, X):\n",
        "        \"\"\"\n",
        "            Predict all classes for a dataset X\n",
        "        Args:\n",
        "            X (array-like): A 2D numpy array with the training data, excluding\n",
        "            targets\n",
        "        Returns:\n",
        "            array, shape (n_samples,)\n",
        "                Predicted target values per element in X.\n",
        "        \"\"\"\n",
        "        pass\n",
        "\n",
        "    def initialize_weights(self):\n",
        "        \"\"\" Initialize weights for perceptron. Don't forget the bias!\n",
        "        Returns:\n",
        "        \"\"\"\n",
        "\n",
        "        return [0]\n",
        "\n",
        "    def score(self, X, y):\n",
        "        \"\"\"\n",
        "            Return accuracy of model on a given dataset. Must implement own\n",
        "            score function.\n",
        "        Args:\n",
        "            X (array-like): A 2D numpy array with data, excluding targets\n",
        "            y (array-like): A 2D numpy array with targets\n",
        "        Returns:\n",
        "            score : float\n",
        "                Mean accuracy of self.predict(X) wrt. y.\n",
        "        \"\"\"\n",
        "\n",
        "        return 0\n",
        "\n",
        "    ### Returns the weights and bias. Not required but great for debugging.\n",
        "    def get_weights(self):\n",
        "        pass"
      ]
    }
  ],
  "metadata": {
    "colab": {
      "provenance": []
    },
    "kernelspec": {
      "display_name": "Python 2.7.16 64-bit",
      "language": "python",
      "name": "python3"
    },
    "language_info": {
      "codemirror_mode": {
        "name": "ipython",
        "version": 3
      },
      "file_extension": ".py",
      "mimetype": "text/x-python",
      "name": "python",
      "nbconvert_exporter": "python",
      "pygments_lexer": "ipython3",
      "version": "3.11.4"
    },
    "vscode": {
      "interpreter": {
        "hash": "767d51c1340bd893661ea55ea3124f6de3c7a262a8b4abca0554b478b1e2ff90"
      }
    }
  },
  "nbformat": 4,
  "nbformat_minor": 0
}